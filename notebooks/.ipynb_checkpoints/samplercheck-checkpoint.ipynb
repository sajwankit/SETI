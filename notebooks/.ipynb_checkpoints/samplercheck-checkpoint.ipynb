{
 "cells": [
  {
   "cell_type": "code",
   "execution_count": 1,
   "id": "955cf7a4-4fbe-4076-a864-57ee0c67bd16",
   "metadata": {},
   "outputs": [
    {
     "name": "stdout",
     "output_type": "stream",
     "text": [
      "error creating /mnt/gfs/gv1/project_sonar_data/seti/resized_images_seti/256258\n",
      "folder exists, make sure this call is from inference.py\n"
     ]
    }
   ],
   "source": [
    "\n",
    "import os\n",
    "os.chdir('/home/asajw/SETI/src')\n",
    "import sampler\n",
    "import numpy as np\n",
    "import pandas as pd\n",
    "import config\n",
    "import validation_strategy as vs"
   ]
  },
  {
   "cell_type": "code",
   "execution_count": 2,
   "id": "1524b9bf-f9a8-43a7-8942-d735f3970291",
   "metadata": {},
   "outputs": [
    {
     "data": {
      "text/plain": [
       "4694"
      ]
     },
     "execution_count": 2,
     "metadata": {},
     "output_type": "execute_result"
    }
   ],
   "source": [
    "\n",
    "df = pd.read_csv(f'{config.DATA_PATH}train_labels.csv')\n",
    "len(df[df.target==1])"
   ]
  },
  {
   "cell_type": "code",
   "execution_count": 3,
   "id": "7641b30d-543c-4eba-bb3d-557f3128eec0",
   "metadata": {},
   "outputs": [],
   "source": [
    "targets = df.target.values\n",
    "\n",
    "'''\n",
    "stratify based on target and image group\n",
    "''' \n",
    "skFoldData = vs.get_SKFold(ids = df.index.values,\n",
    "                           targets = targets,\n",
    "                           n_folds = config.FOLDS,\n",
    "                           seed = config.SEED,\n",
    "                           shuffle = True)"
   ]
  },
  {
   "cell_type": "code",
   "execution_count": 5,
   "id": "adac4649-38e4-40a1-832b-c6ab437b6c20",
   "metadata": {},
   "outputs": [
    {
     "name": "stdout",
     "output_type": "stream",
     "text": [
      "34103 3521\n"
     ]
    }
   ],
   "source": [
    "for fold, foldData in enumerate(skFoldData):\n",
    "    if fold == 1:\n",
    "        trIDs = foldData['trIDs']\n",
    "        vIDs = foldData['vIDs']\n",
    "print((targets[trIDs]==0).sum(), (targets[trIDs]==1).sum())"
   ]
  },
  {
   "cell_type": "code",
   "execution_count": 36,
   "id": "81816bfc-209b-43d0-9ff5-f71daa93158b",
   "metadata": {},
   "outputs": [
    {
     "name": "stdout",
     "output_type": "stream",
     "text": [
      "batch:0, batch_size 32, target 0 counts: 16, target 1 counts: 16\n",
      "batch:1, batch_size 32, target 0 counts: 17, target 1 counts: 15\n",
      "batch:2, batch_size 32, target 0 counts: 16, target 1 counts: 16\n",
      "batch:3, batch_size 32, target 0 counts: 17, target 1 counts: 15\n",
      "batch:4, batch_size 32, target 0 counts: 16, target 1 counts: 16\n"
     ]
    }
   ],
   "source": [
    "a = sampler.StratifiedSampler(trIDs, targets[trIDs], 32, oversample_rate=8)\n",
    "test_X = np.array([])\n",
    "pos_count = 0\n",
    "for i, X_batch in enumerate(a.X_batches):\n",
    "    target_value, counts = np.unique(targets[a.X_batches[i]], return_counts=True)\n",
    "    pos_count += counts[1]\n",
    "    if i<5:\n",
    "        print(f'batch:{i}, batch_size {len(X_batch)}, target {target_value[0]} counts: {counts[0]}, target {target_value[1]} counts: {counts[1]}')\n",
    "# print(np.all(np.sort(test_X) == np.sort(a.X)))"
   ]
  },
  {
   "cell_type": "code",
   "execution_count": 37,
   "id": "d5f7b4a4-58db-415d-b130-2495aa115d91",
   "metadata": {},
   "outputs": [
    {
     "data": {
      "text/plain": [
       "2304"
      ]
     },
     "execution_count": 37,
     "metadata": {},
     "output_type": "execute_result"
    }
   ],
   "source": [
    "len(a.X_batches)"
   ]
  },
  {
   "cell_type": "code",
   "execution_count": 38,
   "id": "7d082679-a3ce-46b7-9495-fe74d4fccaeb",
   "metadata": {},
   "outputs": [
    {
     "data": {
      "text/plain": [
       "0.10324604873471542"
      ]
     },
     "execution_count": 38,
     "metadata": {},
     "output_type": "execute_result"
    }
   ],
   "source": [
    "3521/34103"
   ]
  },
  {
   "cell_type": "code",
   "execution_count": 39,
   "id": "b48d93af-8c38-4f06-97d4-3c85011a696d",
   "metadata": {},
   "outputs": [
    {
     "data": {
      "text/plain": [
       "4096"
      ]
     },
     "execution_count": 39,
     "metadata": {},
     "output_type": "execute_result"
    }
   ],
   "source": [
    "2048*2"
   ]
  },
  {
   "cell_type": "code",
   "execution_count": 40,
   "id": "4f90fdeb-767a-4ff5-8c84-509204034d58",
   "metadata": {},
   "outputs": [
    {
     "data": {
      "text/plain": [
       "31689"
      ]
     },
     "execution_count": 40,
     "metadata": {},
     "output_type": "execute_result"
    }
   ],
   "source": [
    "pos_count"
   ]
  },
  {
   "cell_type": "code",
   "execution_count": null,
   "id": "65a7353b-f79c-4cf5-b1bc-c04553b947d5",
   "metadata": {},
   "outputs": [],
   "source": []
  }
 ],
 "metadata": {
  "kernelspec": {
   "display_name": "Python 3",
   "language": "python",
   "name": "python3"
  },
  "language_info": {
   "codemirror_mode": {
    "name": "ipython",
    "version": 3
   },
   "file_extension": ".py",
   "mimetype": "text/x-python",
   "name": "python",
   "nbconvert_exporter": "python",
   "pygments_lexer": "ipython3",
   "version": "3.8.10"
  }
 },
 "nbformat": 4,
 "nbformat_minor": 5
}
