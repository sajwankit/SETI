{
 "cells": [
  {
   "cell_type": "code",
   "execution_count": 2,
   "id": "99edddda-2989-4e80-8476-428c92504160",
   "metadata": {},
   "outputs": [
    {
     "name": "stdout",
     "output_type": "stream",
     "text": [
      "error creating /mnt/gfs/gv1/project_sonar_data/seti/resized_images_seti/256258\n",
      "folder exists, make sure this call is from inference.py\n"
     ]
    }
   ],
   "source": [
    "import pandas as pd\n",
    "import config"
   ]
  },
  {
   "cell_type": "code",
   "execution_count": 3,
   "id": "359e1e22-83ab-48bf-ae45-e8a4ef10db35",
   "metadata": {},
   "outputs": [
    {
     "data": {
      "text/plain": [
       "'/home/asajw/SETI/output/resnet18d_bs32_AllChl256258_mixupTrue_augSwapDropFlip_ohemFalse_scdCosineAnnealingWarmRestarts_normalized_ft_dt061623/'"
      ]
     },
     "execution_count": 3,
     "metadata": {},
     "output_type": "execute_result"
    }
   ],
   "source": [
    "config.LOG_DIR"
   ]
  },
  {
   "cell_type": "code",
   "execution_count": 44,
   "id": "4eaf185f-ca1b-410c-8e87-b00f202e51be",
   "metadata": {},
   "outputs": [],
   "source": [
    "logpath = '/home/asajw/'+'SETI/output/resnet18d_bs32_AllChl256258_mixupTrue_augSwapDropFlip_ohemFalse_scdCosineAnnealingWarmRestarts_dt061505/resnet18d_bs32_AllChl256258_mixupTrue_augSwapDropFlip_ohemFalse_scdCosineAnnealingWarmRestarts_dt061505.csv'\n"
   ]
  },
  {
   "cell_type": "code",
   "execution_count": 56,
   "id": "880c4fbe-72d5-4329-8867-f007438cd02c",
   "metadata": {},
   "outputs": [],
   "source": [
    "tl = pd.read_csv(f'{logpath}')\n",
    "tl = tl[1:]\n",
    "for c in tl.columns:\n",
    "    tl[c] = tl[c].astype(float)"
   ]
  },
  {
   "cell_type": "code",
   "execution_count": 57,
   "id": "ccff3530-ddbb-4f85-926e-5aabee56b4e7",
   "metadata": {},
   "outputs": [
    {
     "data": {
      "text/plain": [
       "Index(['fold', 'epoch', 'val_loss', 'val_auc', 'tr_auc', ' train_loss',\n",
       "       ' time'],\n",
       "      dtype='object')"
      ]
     },
     "execution_count": 57,
     "metadata": {},
     "output_type": "execute_result"
    }
   ],
   "source": [
    "tl.columns"
   ]
  },
  {
   "cell_type": "code",
   "execution_count": 58,
   "id": "7b9bca42-6336-47ea-9ce8-89c052be838a",
   "metadata": {},
   "outputs": [
    {
     "data": {
      "text/plain": [
       "<AxesSubplot:xlabel='epoch'>"
      ]
     },
     "execution_count": 58,
     "metadata": {},
     "output_type": "execute_result"
    },
    {
     "data": {
      "image/png": "[encoded data removed]",
      "text/plain": [
       "<Figure size 432x288 with 1 Axes>"
      ]
     },
     "metadata": {
      "needs_background": "light"
     },
     "output_type": "display_data"
    }
   ],
   "source": [
    "tl[tl.fold == 0].plot('epoch',  ['val_loss',' train_loss'])"
   ]
  },
  {
   "cell_type": "code",
   "execution_count": null,
   "id": "05e13ac3-e1e3-4b95-8458-2feee50ba554",
   "metadata": {},
   "outputs": [],
   "source": []
  }
 ],
 "metadata": {
  "kernelspec": {
   "display_name": "Python 3",
   "language": "python",
   "name": "python3"
  },
  "language_info": {
   "codemirror_mode": {
    "name": "ipython",
    "version": 3
   },
   "file_extension": ".py",
   "mimetype": "text/x-python",
   "name": "python",
   "nbconvert_exporter": "python",
   "pygments_lexer": "ipython3",
   "version": "3.8.10"
  }
 },
 "nbformat": 4,
 "nbformat_minor": 5
}
