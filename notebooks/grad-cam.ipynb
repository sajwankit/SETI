{
 "cells": [
  {
   "cell_type": "code",
   "execution_count": null,
   "id": "47988620-6681-436d-acc8-2da9e1b97fea",
   "metadata": {},
   "outputs": [],
   "source": [
    "import gradcam\n",
    "import pytorch_grad_cam as pgc\n",
    "grayscale_cam = gradcam.grayscale_cam\n"
   ]
  },
  {
   "cell_type": "code",
   "execution_count": null,
   "id": "445525d7-cd9c-44cf-9758-98cfce5ac8bd",
   "metadata": {},
   "outputs": [],
   "source": [
    "grayscale_cam"
   ]
  },
  {
   "cell_type": "code",
   "execution_count": null,
   "id": "4d6cd6eb-676f-4b29-9849-38abd0449e27",
   "metadata": {},
   "outputs": [],
   "source": [
    "import cv2\n",
    "import glob \n",
    "import numpy as np\n",
    "o = cv2.imread(glob.glob('/mnt/gfs/gv1/project_sonar_data/seti/ext/ext_needles/primary_small/train/squiggle/*.png')[1])\n",
    "o = (o/ np.max(o))\n",
    "visualizatioon = pgc.utils.image.show_cam_on_image(o, grayscale_cam)\n",
    "import matplotlib.pyplot as plt\n",
    "plt.imshow(visualizatioon)\n",
    "plt.show()"
   ]
  },
  {
   "cell_type": "code",
   "execution_count": 13,
   "id": "4cf6ce0d-05c5-43d6-9d22-64c53df3422e",
   "metadata": {},
   "outputs": [
    {
     "ename": "NameError",
     "evalue": "name 'glob' is not defined",
     "output_type": "error",
     "traceback": [
      "\u001b[0;31m---------------------------------------------------------------------------\u001b[0m",
      "\u001b[0;31mNameError\u001b[0m                                 Traceback (most recent call last)",
      "\u001b[0;32m<ipython-input-13-0c7c17f8b82a>\u001b[0m in \u001b[0;36m<module>\u001b[0;34m\u001b[0m\n\u001b[1;32m      4\u001b[0m \u001b[0mtarget_layer\u001b[0m \u001b[0;34m=\u001b[0m \u001b[0mmodel\u001b[0m\u001b[0;34m.\u001b[0m\u001b[0mlayer4\u001b[0m\u001b[0;34m[\u001b[0m\u001b[0;34m-\u001b[0m\u001b[0;36m1\u001b[0m\u001b[0;34m]\u001b[0m\u001b[0;34m\u001b[0m\u001b[0;34m\u001b[0m\u001b[0m\n\u001b[1;32m      5\u001b[0m \u001b[0;34m\u001b[0m\u001b[0m\n\u001b[0;32m----> 6\u001b[0;31m \u001b[0mpath\u001b[0m \u001b[0;34m=\u001b[0m \u001b[0mglob\u001b[0m\u001b[0;34m.\u001b[0m\u001b[0mglob\u001b[0m\u001b[0;34m(\u001b[0m\u001b[0;34m'/mnt/gfs/gv1/project_sonar_data/seti/ext/ext_needles/primary_small/train/squiggle/*.png'\u001b[0m\u001b[0;34m)\u001b[0m\u001b[0;34m[\u001b[0m\u001b[0mrandom\u001b[0m\u001b[0;34m.\u001b[0m\u001b[0mchoice\u001b[0m\u001b[0;34m(\u001b[0m\u001b[0mrange\u001b[0m\u001b[0;34m(\u001b[0m\u001b[0;36m100\u001b[0m\u001b[0;34m)\u001b[0m\u001b[0;34m)\u001b[0m\u001b[0;34m]\u001b[0m\u001b[0;34m\u001b[0m\u001b[0;34m\u001b[0m\u001b[0m\n\u001b[0m\u001b[1;32m      7\u001b[0m \u001b[0mimage\u001b[0m \u001b[0;34m=\u001b[0m \u001b[0mcv2\u001b[0m\u001b[0;34m.\u001b[0m\u001b[0mimread\u001b[0m\u001b[0;34m(\u001b[0m\u001b[0mpath\u001b[0m\u001b[0;34m,\u001b[0m \u001b[0mcv2\u001b[0m\u001b[0;34m.\u001b[0m\u001b[0mIMREAD_GRAYSCALE\u001b[0m\u001b[0;34m)\u001b[0m\u001b[0;34m\u001b[0m\u001b[0;34m\u001b[0m\u001b[0m\n\u001b[1;32m      8\u001b[0m \u001b[0mimage\u001b[0m \u001b[0;34m=\u001b[0m \u001b[0mimage\u001b[0m\u001b[0;34m.\u001b[0m\u001b[0mreshape\u001b[0m\u001b[0;34m(\u001b[0m\u001b[0;36m1\u001b[0m\u001b[0;34m,\u001b[0m\u001b[0mimage\u001b[0m\u001b[0;34m.\u001b[0m\u001b[0mshape\u001b[0m\u001b[0;34m[\u001b[0m\u001b[0;36m0\u001b[0m\u001b[0;34m]\u001b[0m\u001b[0;34m,\u001b[0m\u001b[0mimage\u001b[0m\u001b[0;34m.\u001b[0m\u001b[0mshape\u001b[0m\u001b[0;34m[\u001b[0m\u001b[0;36m1\u001b[0m\u001b[0;34m]\u001b[0m\u001b[0;34m)\u001b[0m\u001b[0;34m\u001b[0m\u001b[0;34m\u001b[0m\u001b[0m\n",
      "\u001b[0;31mNameError\u001b[0m: name 'glob' is not defined"
     ]
    }
   ],
   "source": [
    "\n",
    "from torchvision.models import resnet50\n",
    "import cv2\n",
    "model = resnet50(pretrained = True)\n",
    "target_layer = model.layer4[-1]\n",
    "\n",
    "path = glob.glob('/mnt/gfs/gv1/project_sonar_data/seti/ext/ext_needles/primary_small/train/squiggle/*.png')[random.choice(range(100))]\n",
    "image = cv2.imread(path, cv2.IMREAD_GRAYSCALE)\n",
    "image = image.reshape(1,image.shape[0],image.shape[1])                                                                                                            \n",
    "input_tensor = torch.tensor(image.copy(), dtype = torch.int)\n",
    "\n",
    "cam = pgc.GradCAM(model = model, target_layer = target_layer, use_cuda = True)\n",
    "\n",
    "target_category = 2\n",
    "\n",
    "grayscale_cam = cam(input_tensor = input_tensor, target_category = target_category)\n",
    "\n",
    "grayscale_cam = grayscale_cam[0, :]\n",
    "visualizatioon = pgc.utils.image.show_cam_on_image(rgb_img, grayscale_cam)\n",
    "                                                                                                          \n"
   ]
  },
  {
   "cell_type": "code",
   "execution_count": null,
   "id": "e983329e-2a2a-4cf2-8aca-b388f17a3f96",
   "metadata": {},
   "outputs": [],
   "source": []
  },
  {
   "cell_type": "code",
   "execution_count": null,
   "id": "7436fafc-aa25-4941-878c-01cff6bab503",
   "metadata": {},
   "outputs": [],
   "source": []
  }
 ],
 "metadata": {
  "kernelspec": {
   "display_name": "Python 3",
   "language": "python",
   "name": "python3"
  },
  "language_info": {
   "codemirror_mode": {
    "name": "ipython",
    "version": 3
   },
   "file_extension": ".py",
   "mimetype": "text/x-python",
   "name": "python",
   "nbconvert_exporter": "python",
   "pygments_lexer": "ipython3",
   "version": "3.8.10"
  }
 },
 "nbformat": 4,
 "nbformat_minor": 5
}
