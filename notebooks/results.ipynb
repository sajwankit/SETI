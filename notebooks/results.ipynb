{
 "cells": [
  {
   "cell_type": "code",
   "execution_count": 2,
   "id": "942a3d32-5554-477d-84f3-d4a01bb5796c",
   "metadata": {},
   "outputs": [],
   "source": [
    "import os\n",
    "os.chdir('/home/asajw/SETI/src')"
   ]
  },
  {
   "cell_type": "code",
   "execution_count": 3,
   "id": "99edddda-2989-4e80-8476-428c92504160",
   "metadata": {},
   "outputs": [
    {
     "name": "stdout",
     "output_type": "stream",
     "text": [
      "error creating /mnt/gfs/gv1/project_sonar_data/seti/resized_images_seti/256258\n",
      "folder exists, make sure this call is from inference.py\n"
     ]
    }
   ],
   "source": [
    "import pandas as pd\n",
    "import config"
   ]
  },
  {
   "cell_type": "code",
   "execution_count": 4,
   "id": "359e1e22-83ab-48bf-ae45-e8a4ef10db35",
   "metadata": {},
   "outputs": [
    {
     "data": {
      "text/plain": [
       "'/home/asajw/SETI/output/SeResNet_legacy_seresnext26_32x4d_bs32_AllChl256258_mixupTrue_augSwapDropFlip_ohemFalse_scdCosineAnnealingWarmRestarts_dropoutFalse_InvOrigNorm_epoch52/'"
      ]
     },
     "execution_count": 4,
     "metadata": {},
     "output_type": "execute_result"
    }
   ],
   "source": [
    "config.LOG_DIR"
   ]
  },
  {
   "cell_type": "code",
   "execution_count": 51,
   "id": "4eaf185f-ca1b-410c-8e87-b00f202e51be",
   "metadata": {},
   "outputs": [],
   "source": [
    "logpath = '/home/asajw/'+'SETI/output/SeResNet_legacy_seresnext26_32x4d_bs32_AllChl256258_mixupTrue_augSwapDropFlip_ohemFalse_scdCosineAnnealingWarmRestarts_dropoutFalse_InvOrigNorm_epoch44/SeResNet_legacy_seresnext26_32x4d_bs32_AllChl256258_mixupTrue_augSwapDropFlip_ohemFalse_scdCosineAnnealingWarmRestarts_dropoutFalse_InvOrigNorm_epoch44.csv'\n"
   ]
  },
  {
   "cell_type": "code",
   "execution_count": 52,
   "id": "880c4fbe-72d5-4329-8867-f007438cd02c",
   "metadata": {},
   "outputs": [],
   "source": [
    "tl = pd.read_csv(f'{logpath}')\n",
    "tl = tl[1:]\n",
    "for c in tl.columns:\n",
    "    tl[c] = tl[c].astype(float)"
   ]
  },
  {
   "cell_type": "code",
   "execution_count": 53,
   "id": "ccff3530-ddbb-4f85-926e-5aabee56b4e7",
   "metadata": {},
   "outputs": [
    {
     "data": {
      "text/plain": [
       "1      0.0\n",
       "2      0.0\n",
       "3      0.0\n",
       "4      0.0\n",
       "5      0.0\n",
       "      ... \n",
       "171    3.0\n",
       "172    3.0\n",
       "173    3.0\n",
       "174    3.0\n",
       "175    3.0\n",
       "Name: fold, Length: 175, dtype: float64"
      ]
     },
     "execution_count": 53,
     "metadata": {},
     "output_type": "execute_result"
    }
   ],
   "source": [
    "tl.fold"
   ]
  },
  {
   "cell_type": "code",
   "execution_count": 54,
   "id": "7b9bca42-6336-47ea-9ce8-89c052be838a",
   "metadata": {},
   "outputs": [
    {
     "data": {
      "text/plain": [
       "fold            1.000000\n",
       "epoch          43.000000\n",
       "val_loss        0.139322\n",
       "val_auc         0.991318\n",
       "tr_auc          0.934315\n",
       " train_loss     0.286206\n",
       " time           3.719113\n",
       "dtype: float64"
      ]
     },
     "execution_count": 54,
     "metadata": {},
     "output_type": "execute_result"
    }
   ],
   "source": [
    "tl[tl.fold == 1].max()"
   ]
  },
  {
   "cell_type": "code",
   "execution_count": 55,
   "id": "05e13ac3-e1e3-4b95-8458-2feee50ba554",
   "metadata": {},
   "outputs": [],
   "source": [
    "tln = pd.read_csv('/home/asajw/SETI/output/SeResNet_legacy_seresnext26_32x4d_bs32_AllChl256258_mixupTrue_augSwapDropFlip_ohemFalse_scdCosineAnnealingWarmRestarts_dropoutFalse_InvOrigNorm_epoch25/SeResNet_legacy_seresnext26_32x4d_bs32_AllChl256258_mixupTrue_augSwapDropFlip_ohemFalse_scdCosineAnnealingWarmRestarts_dropoutFalse_InvOrigNorm_epoch25.csv')"
   ]
  },
  {
   "cell_type": "code",
   "execution_count": 56,
   "id": "6a6aa79d-47b3-4438-b7b9-762749c4393e",
   "metadata": {},
   "outputs": [
    {
     "name": "stdout",
     "output_type": "stream",
     "text": [
      "0.9895316450612436 24\n",
      "0.990391208957346 13\n",
      "0.990081264889764 14\n",
      "0.987167341908022 24\n"
     ]
    }
   ],
   "source": [
    "for i in range(4):\n",
    "    max_val_auc = tln[tln.fold == i].val_auc.max()\n",
    "    epoch_max_val = int(tln[tln.val_auc == float(tln[tln.fold == i].val_auc.max())].epoch)\n",
    "    print(max_val_auc, epoch_max_val)"
   ]
  },
  {
   "cell_type": "code",
   "execution_count": 57,
   "id": "971b20e1-3c49-4bab-8d73-50dd71fee683",
   "metadata": {},
   "outputs": [
    {
     "data": {
      "text/plain": [
       "24    24\n",
       "Name: epoch, dtype: int64"
      ]
     },
     "execution_count": 57,
     "metadata": {},
     "output_type": "execute_result"
    }
   ],
   "source": [
    "tln[tln.val_auc == float(tln[tln.fold == 0].val_auc.max())].epoch"
   ]
  },
  {
   "cell_type": "code",
   "execution_count": 58,
   "id": "9b47a53d-f4e8-44b4-b64d-454d260e8a5a",
   "metadata": {},
   "outputs": [
    {
     "name": "stdout",
     "output_type": "stream",
     "text": [
      "0.9895033595004118 21\n",
      "0.9913177414893992 38\n",
      "0.9904381542722036 31\n",
      "0.9878825986758344 29\n"
     ]
    }
   ],
   "source": [
    "for i in range(4):\n",
    "    max_val_auc = tl[tl.fold == i].val_auc.max()\n",
    "    epoch_max_val = int(tl[tl.val_auc == float(tl[tl.fold == i].val_auc.max())].epoch)\n",
    "    print(max_val_auc, epoch_max_val)"
   ]
  },
  {
   "cell_type": "code",
   "execution_count": 59,
   "id": "e68a8e32-5849-4a3d-bfb6-4757b2e40a31",
   "metadata": {},
   "outputs": [
    {
     "name": "stdout",
     "output_type": "stream",
     "text": [
      "0.9895033595004118 21\n",
      "0.9913177414893992 38\n",
      "0.9904381542722036 31\n",
      "0.9878825986758344 29\n"
     ]
    }
   ],
   "source": [
    "for i in range(4):\n",
    "    max_val_auc = tl[tl.fold == i].val_auc.max()\n",
    "    epoch_max_val = int(tl[tl.val_auc == float(tl[tl.fold == i].val_auc.max())].epoch)\n",
    "    print(max_val_auc, epoch_max_val)"
   ]
  },
  {
   "cell_type": "code",
   "execution_count": 28,
   "id": "6caf7cfd-ec08-4300-9a9c-cf2db596418f",
   "metadata": {},
   "outputs": [
    {
     "name": "stdout",
     "output_type": "stream",
     "text": [
      "0.9895316450612436 24\n",
      "0.990391208957346 13\n",
      "0.990081264889764 14\n",
      "0.987167341908022 24\n"
     ]
    }
   ],
   "source": [
    "for i in range(4):\n",
    "    max_val_auc = tln[tln.fold == i].val_auc.max()\n",
    "    epoch_max_val = int(tln[tln.val_auc == float(tln[tln.fold == i].val_auc.max())].epoch)\n",
    "    print(max_val_auc, epoch_max_val)"
   ]
  },
  {
   "cell_type": "code",
   "execution_count": 29,
   "id": "ed150330-d0b5-413c-8e38-103ce7bf21a8",
   "metadata": {},
   "outputs": [
    {
     "data": {
      "text/html": [
       "<div>\n",
       "<style scoped>\n",
       "    .dataframe tbody tr th:only-of-type {\n",
       "        vertical-align: middle;\n",
       "    }\n",
       "\n",
       "    .dataframe tbody tr th {\n",
       "        vertical-align: top;\n",
       "    }\n",
       "\n",
       "    .dataframe thead th {\n",
       "        text-align: right;\n",
       "    }\n",
       "</style>\n",
       "<table border=\"1\" class=\"dataframe\">\n",
       "  <thead>\n",
       "    <tr style=\"text-align: right;\">\n",
       "      <th></th>\n",
       "      <th>fold</th>\n",
       "      <th>epoch</th>\n",
       "      <th>val_loss</th>\n",
       "      <th>val_auc</th>\n",
       "      <th>tr_auc</th>\n",
       "      <th>train_loss</th>\n",
       "      <th>time</th>\n",
       "    </tr>\n",
       "  </thead>\n",
       "  <tbody>\n",
       "    <tr>\n",
       "      <th>1</th>\n",
       "      <td>0.0</td>\n",
       "      <td>1.0</td>\n",
       "      <td>0.083545</td>\n",
       "      <td>0.981487</td>\n",
       "      <td>0.890731</td>\n",
       "      <td>0.229541</td>\n",
       "      <td>3.672980</td>\n",
       "    </tr>\n",
       "    <tr>\n",
       "      <th>2</th>\n",
       "      <td>0.0</td>\n",
       "      <td>2.0</td>\n",
       "      <td>0.079313</td>\n",
       "      <td>0.982969</td>\n",
       "      <td>0.902239</td>\n",
       "      <td>0.222855</td>\n",
       "      <td>3.681511</td>\n",
       "    </tr>\n",
       "    <tr>\n",
       "      <th>3</th>\n",
       "      <td>0.0</td>\n",
       "      <td>3.0</td>\n",
       "      <td>0.070305</td>\n",
       "      <td>0.985953</td>\n",
       "      <td>0.905376</td>\n",
       "      <td>0.214620</td>\n",
       "      <td>3.671017</td>\n",
       "    </tr>\n",
       "    <tr>\n",
       "      <th>4</th>\n",
       "      <td>0.0</td>\n",
       "      <td>4.0</td>\n",
       "      <td>0.077414</td>\n",
       "      <td>0.980313</td>\n",
       "      <td>0.910282</td>\n",
       "      <td>0.211946</td>\n",
       "      <td>3.670914</td>\n",
       "    </tr>\n",
       "    <tr>\n",
       "      <th>5</th>\n",
       "      <td>0.0</td>\n",
       "      <td>5.0</td>\n",
       "      <td>0.072102</td>\n",
       "      <td>0.986667</td>\n",
       "      <td>0.915446</td>\n",
       "      <td>0.206712</td>\n",
       "      <td>3.673181</td>\n",
       "    </tr>\n",
       "    <tr>\n",
       "      <th>...</th>\n",
       "      <td>...</td>\n",
       "      <td>...</td>\n",
       "      <td>...</td>\n",
       "      <td>...</td>\n",
       "      <td>...</td>\n",
       "      <td>...</td>\n",
       "      <td>...</td>\n",
       "    </tr>\n",
       "    <tr>\n",
       "      <th>189</th>\n",
       "      <td>3.0</td>\n",
       "      <td>33.0</td>\n",
       "      <td>0.061298</td>\n",
       "      <td>0.987250</td>\n",
       "      <td>0.935743</td>\n",
       "      <td>0.183080</td>\n",
       "      <td>3.677119</td>\n",
       "    </tr>\n",
       "    <tr>\n",
       "      <th>190</th>\n",
       "      <td>3.0</td>\n",
       "      <td>34.0</td>\n",
       "      <td>0.065020</td>\n",
       "      <td>0.986870</td>\n",
       "      <td>0.931367</td>\n",
       "      <td>0.178885</td>\n",
       "      <td>3.678056</td>\n",
       "    </tr>\n",
       "    <tr>\n",
       "      <th>191</th>\n",
       "      <td>3.0</td>\n",
       "      <td>35.0</td>\n",
       "      <td>0.058355</td>\n",
       "      <td>0.986575</td>\n",
       "      <td>0.936120</td>\n",
       "      <td>0.179950</td>\n",
       "      <td>3.690845</td>\n",
       "    </tr>\n",
       "    <tr>\n",
       "      <th>192</th>\n",
       "      <td>3.0</td>\n",
       "      <td>36.0</td>\n",
       "      <td>0.064508</td>\n",
       "      <td>0.987259</td>\n",
       "      <td>0.932941</td>\n",
       "      <td>0.176386</td>\n",
       "      <td>3.676591</td>\n",
       "    </tr>\n",
       "    <tr>\n",
       "      <th>193</th>\n",
       "      <td>3.0</td>\n",
       "      <td>37.0</td>\n",
       "      <td>0.059563</td>\n",
       "      <td>0.987402</td>\n",
       "      <td>0.934953</td>\n",
       "      <td>0.176991</td>\n",
       "      <td>3.671090</td>\n",
       "    </tr>\n",
       "  </tbody>\n",
       "</table>\n",
       "<p>193 rows × 7 columns</p>\n",
       "</div>"
      ],
      "text/plain": [
       "     fold  epoch  val_loss   val_auc    tr_auc   train_loss      time\n",
       "1     0.0    1.0  0.083545  0.981487  0.890731     0.229541  3.672980\n",
       "2     0.0    2.0  0.079313  0.982969  0.902239     0.222855  3.681511\n",
       "3     0.0    3.0  0.070305  0.985953  0.905376     0.214620  3.671017\n",
       "4     0.0    4.0  0.077414  0.980313  0.910282     0.211946  3.670914\n",
       "5     0.0    5.0  0.072102  0.986667  0.915446     0.206712  3.673181\n",
       "..    ...    ...       ...       ...       ...          ...       ...\n",
       "189   3.0   33.0  0.061298  0.987250  0.935743     0.183080  3.677119\n",
       "190   3.0   34.0  0.065020  0.986870  0.931367     0.178885  3.678056\n",
       "191   3.0   35.0  0.058355  0.986575  0.936120     0.179950  3.690845\n",
       "192   3.0   36.0  0.064508  0.987259  0.932941     0.176386  3.676591\n",
       "193   3.0   37.0  0.059563  0.987402  0.934953     0.176991  3.671090\n",
       "\n",
       "[193 rows x 7 columns]"
      ]
     },
     "execution_count": 29,
     "metadata": {},
     "output_type": "execute_result"
    }
   ],
   "source": [
    "tl"
   ]
  },
  {
   "cell_type": "code",
   "execution_count": null,
   "id": "791cc32d-291c-4218-9d2a-4bda9e5c8a42",
   "metadata": {},
   "outputs": [],
   "source": []
  }
 ],
 "metadata": {
  "kernelspec": {
   "display_name": "Python 3",
   "language": "python",
   "name": "python3"
  },
  "language_info": {
   "codemirror_mode": {
    "name": "ipython",
    "version": 3
   },
   "file_extension": ".py",
   "mimetype": "text/x-python",
   "name": "python",
   "nbconvert_exporter": "python",
   "pygments_lexer": "ipython3",
   "version": "3.8.10"
  }
 },
 "nbformat": 4,
 "nbformat_minor": 5
}
