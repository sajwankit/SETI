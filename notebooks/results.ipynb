{
 "cells": [
  {
   "cell_type": "code",
   "execution_count": 2,
   "id": "99edddda-2989-4e80-8476-428c92504160",
   "metadata": {},
   "outputs": [
    {
     "name": "stdout",
     "output_type": "stream",
     "text": [
      "error creating /mnt/gfs/gv1/project_sonar_data/seti/resized_images_seti/256258\n",
      "folder exists, make sure this call is from inference.py\n"
     ]
    }
   ],
   "source": [
    "import pandas as pd\n",
    "import config"
   ]
  },
  {
   "cell_type": "code",
   "execution_count": 3,
   "id": "359e1e22-83ab-48bf-ae45-e8a4ef10db35",
   "metadata": {},
   "outputs": [
    {
     "data": {
      "text/plain": [
       "'/home/asajw/SETI/output/resnet18d_bs32_AllChl256258_mixupTrue_augSwapDropFlip_ohemFalse_scdCosineAnnealingWarmRestarts_normalized_ft_dt061623/'"
      ]
     },
     "execution_count": 3,
     "metadata": {},
     "output_type": "execute_result"
    }
   ],
   "source": [
    "config.LOG_DIR"
   ]
  },
  {
   "cell_type": "code",
   "execution_count": 44,
   "id": "4eaf185f-ca1b-410c-8e87-b00f202e51be",
   "metadata": {},
   "outputs": [],
   "source": [
    "logpath = '/home/asajw/'+'SETI/output/resnet18d_bs32_AllChl256258_mixupTrue_augSwapDropFlip_ohemFalse_scdCosineAnnealingWarmRestarts_dt061505/resnet18d_bs32_AllChl256258_mixupTrue_augSwapDropFlip_ohemFalse_scdCosineAnnealingWarmRestarts_dt061505.csv'\n"
   ]
  },
  {
   "cell_type": "code",
   "execution_count": 56,
   "id": "880c4fbe-72d5-4329-8867-f007438cd02c",
   "metadata": {},
   "outputs": [],
   "source": [
    "tl = pd.read_csv(f'{logpath}')\n",
    "tl = tl[1:]\n",
    "for c in tl.columns:\n",
    "    tl[c] = tl[c].astype(float)"
   ]
  },
  {
   "cell_type": "code",
   "execution_count": 57,
   "id": "ccff3530-ddbb-4f85-926e-5aabee56b4e7",
   "metadata": {},
   "outputs": [
    {
     "data": {
      "text/plain": [
       "Index(['fold', 'epoch', 'val_loss', 'val_auc', 'tr_auc', ' train_loss',\n",
       "       ' time'],\n",
       "      dtype='object')"
      ]
     },
     "execution_count": 57,
     "metadata": {},
     "output_type": "execute_result"
    }
   ],
   "source": [
    "tl.fold"
   ]
  },
  {
   "cell_type": "code",
   "execution_count": 71,
   "id": "7b9bca42-6336-47ea-9ce8-89c052be838a",
   "metadata": {},
   "outputs": [
    {
     "data": {
      "text/plain": [
       "fold            1.000000\n",
       "epoch          39.000000\n",
       "val_loss        0.130537\n",
       "val_auc         0.988970\n",
       "tr_auc          0.916987\n",
       " train_loss     0.338615\n",
       " time           1.510419\n",
       "dtype: float64"
      ]
     },
     "execution_count": 71,
     "metadata": {},
     "output_type": "execute_result"
    }
   ],
   "source": [
    "tl[tl.fold == 1].max()"
   ]
  },
  {
   "cell_type": "code",
   "execution_count": 73,
   "id": "05e13ac3-e1e3-4b95-8458-2feee50ba554",
   "metadata": {},
   "outputs": [],
   "source": [
    "tln = pd.read_csv('/home/asajw/SETI/output/resnet18d_bs32_AllChl256258_mixupTrue_augSwapDropFlip_ohemFalse_scdCosineAnnealingWarmRestarts_normalized_ft/resnet18d_bs32_AllChl256258_mixupTrue_augSwapDropFlip_ohemFalse_scdCosineAnnealingWarmRestarts_normalized_ft.csv')"
   ]
  },
  {
   "cell_type": "code",
   "execution_count": 102,
   "id": "6a6aa79d-47b3-4438-b7b9-762749c4393e",
   "metadata": {},
   "outputs": [
    {
     "name": "stdout",
     "output_type": "stream",
     "text": [
      "0.9889729062684668 17\n",
      "0.989938371768362 38\n",
      "0.9888690108727152 26\n",
      "0.9867819320227144 17\n"
     ]
    }
   ],
   "source": [
    "for i in range(4):\n",
    "    max_val_auc = tln[tln.fold == i].val_auc.max()\n",
    "    epoch_max_val = int(tln[tln.val_auc == float(tln[tln.fold == i].val_auc.max())].epoch)\n",
    "    print(max_val_auc, epoch_max_val)"
   ]
  },
  {
   "cell_type": "code",
   "execution_count": 88,
   "id": "971b20e1-3c49-4bab-8d73-50dd71fee683",
   "metadata": {},
   "outputs": [
    {
     "data": {
      "text/plain": [
       "17    17\n",
       "Name: epoch, dtype: int64"
      ]
     },
     "execution_count": 88,
     "metadata": {},
     "output_type": "execute_result"
    }
   ],
   "source": [
    "tln[tln.val_auc == float(tln[tln.fold == 0].val_auc.max())].epoch"
   ]
  },
  {
   "cell_type": "code",
   "execution_count": 96,
   "id": "e68a8e32-5849-4a3d-bfb6-4757b2e40a31",
   "metadata": {},
   "outputs": [
    {
     "name": "stdout",
     "output_type": "stream",
     "text": [
      "0.9857591590708571 22\n",
      "0.988970058729737 24\n",
      "0.9884177809054656 29\n",
      "0.9858872750169339 27\n"
     ]
    }
   ],
   "source": [
    "for i in range(4):\n",
    "    max_val_auc = tl[tl.fold == i].val_auc.max()\n",
    "    epoch_max_val = int(tl[tl.val_auc == float(tl[tl.fold == i].val_auc.max())].epoch)\n",
    "    print(max_val_auc, epoch_max_val)"
   ]
  },
  {
   "cell_type": "code",
   "execution_count": null,
   "id": "6caf7cfd-ec08-4300-9a9c-cf2db596418f",
   "metadata": {},
   "outputs": [],
   "source": []
  }
 ],
 "metadata": {
  "kernelspec": {
   "display_name": "Python 3",
   "language": "python",
   "name": "python3"
  },
  "language_info": {
   "codemirror_mode": {
    "name": "ipython",
    "version": 3
   },
   "file_extension": ".py",
   "mimetype": "text/x-python",
   "name": "python",
   "nbconvert_exporter": "python",
   "pygments_lexer": "ipython3",
   "version": "3.8.10"
  }
 },
 "nbformat": 4,
 "nbformat_minor": 5
}
